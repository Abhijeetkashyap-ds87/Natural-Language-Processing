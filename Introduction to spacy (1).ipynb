{
 "cells": [
  {
   "cell_type": "markdown",
   "id": "c2d0614f",
   "metadata": {},
   "source": [
    "### For basic NLP tasks Spacy is much faster and more efficient compared to NLTK at the cost of the user not being able to choose algorithmic implementations"
   ]
  },
  {
   "cell_type": "markdown",
   "id": "d59723b4",
   "metadata": {},
   "source": [
    "# installation of spacy"
   ]
  },
  {
   "cell_type": "code",
   "execution_count": 2,
   "id": "a5ef13cb",
   "metadata": {},
   "outputs": [
    {
     "name": "stdout",
     "output_type": "stream",
     "text": [
      "Requirement already satisfied: pip in /Users/abhijeetkashyap/opt/anaconda3/lib/python3.9/site-packages (22.2.2)\n",
      "Collecting pip\n",
      "  Downloading pip-23.3.2-py3-none-any.whl (2.1 MB)\n",
      "\u001b[2K     \u001b[90m━━━━━━━━━━━━━━━━━━━━━━━━━━━━━━━━━━━━━━━━\u001b[0m \u001b[32m2.1/2.1 MB\u001b[0m \u001b[31m7.0 MB/s\u001b[0m eta \u001b[36m0:00:00\u001b[0m00:01\u001b[0m00:01\u001b[0m\n",
      "\u001b[?25hRequirement already satisfied: setuptools in /Users/abhijeetkashyap/opt/anaconda3/lib/python3.9/site-packages (63.4.1)\n",
      "Collecting setuptools\n",
      "  Downloading setuptools-69.0.3-py3-none-any.whl (819 kB)\n",
      "\u001b[2K     \u001b[90m━━━━━━━━━━━━━━━━━━━━━━━━━━━━━━━━━━━━━━\u001b[0m \u001b[32m819.5/819.5 kB\u001b[0m \u001b[31m44.6 MB/s\u001b[0m eta \u001b[36m0:00:00\u001b[0m\n",
      "\u001b[?25hRequirement already satisfied: wheel in /Users/abhijeetkashyap/opt/anaconda3/lib/python3.9/site-packages (0.37.1)\n",
      "Collecting wheel\n",
      "  Downloading wheel-0.42.0-py3-none-any.whl (65 kB)\n",
      "\u001b[2K     \u001b[90m━━━━━━━━━━━━━━━━━━━━━━━━━━━━━━━━━━━━━━━━\u001b[0m \u001b[32m65.4/65.4 kB\u001b[0m \u001b[31m7.3 MB/s\u001b[0m eta \u001b[36m0:00:00\u001b[0m\n",
      "\u001b[?25hInstalling collected packages: wheel, setuptools, pip\n",
      "  Attempting uninstall: wheel\n",
      "    Found existing installation: wheel 0.37.1\n",
      "    Uninstalling wheel-0.37.1:\n",
      "      Successfully uninstalled wheel-0.37.1\n",
      "  Attempting uninstall: setuptools\n",
      "    Found existing installation: setuptools 63.4.1\n",
      "    Uninstalling setuptools-63.4.1:\n",
      "      Successfully uninstalled setuptools-63.4.1\n",
      "  Attempting uninstall: pip\n",
      "    Found existing installation: pip 22.2.2\n",
      "    Uninstalling pip-22.2.2:\n",
      "      Successfully uninstalled pip-22.2.2\n",
      "\u001b[31mERROR: pip's dependency resolver does not currently take into account all the packages that are installed. This behaviour is the source of the following dependency conflicts.\n",
      "spyder 5.3.3 requires pyqt5<5.16, which is not installed.\n",
      "spyder 5.3.3 requires pyqtwebengine<5.16, which is not installed.\n",
      "anaconda-project 0.11.1 requires ruamel-yaml, which is not installed.\n",
      "conda-repo-cli 1.0.20 requires clyent==1.2.1, but you have clyent 1.2.2 which is incompatible.\n",
      "conda-repo-cli 1.0.20 requires nbformat==5.4.0, but you have nbformat 5.5.0 which is incompatible.\n",
      "conda-repo-cli 1.0.20 requires requests==2.28.1, but you have requests 2.31.0 which is incompatible.\u001b[0m\u001b[31m\n",
      "\u001b[0mSuccessfully installed pip-23.3.2 setuptools-69.0.3 wheel-0.42.0\n",
      "Collecting spacy\n",
      "  Downloading spacy-3.7.2-cp39-cp39-macosx_10_9_x86_64.whl.metadata (25 kB)\n",
      "Collecting spacy-legacy<3.1.0,>=3.0.11 (from spacy)\n",
      "  Downloading spacy_legacy-3.0.12-py2.py3-none-any.whl (29 kB)\n",
      "Collecting spacy-loggers<2.0.0,>=1.0.0 (from spacy)\n",
      "  Downloading spacy_loggers-1.0.5-py3-none-any.whl.metadata (23 kB)\n",
      "Collecting murmurhash<1.1.0,>=0.28.0 (from spacy)\n",
      "  Downloading murmurhash-1.0.10-cp39-cp39-macosx_10_9_x86_64.whl.metadata (2.0 kB)\n",
      "Collecting cymem<2.1.0,>=2.0.2 (from spacy)\n",
      "  Downloading cymem-2.0.8-cp39-cp39-macosx_10_9_x86_64.whl.metadata (8.4 kB)\n",
      "Collecting preshed<3.1.0,>=3.0.2 (from spacy)\n",
      "  Downloading preshed-3.0.9-cp39-cp39-macosx_10_9_x86_64.whl.metadata (2.2 kB)\n",
      "Collecting thinc<8.3.0,>=8.1.8 (from spacy)\n",
      "  Downloading thinc-8.2.2-cp39-cp39-macosx_10_9_x86_64.whl.metadata (15 kB)\n",
      "Collecting wasabi<1.2.0,>=0.9.1 (from spacy)\n",
      "  Downloading wasabi-1.1.2-py3-none-any.whl.metadata (28 kB)\n",
      "Collecting srsly<3.0.0,>=2.4.3 (from spacy)\n",
      "  Downloading srsly-2.4.8-cp39-cp39-macosx_10_9_x86_64.whl.metadata (20 kB)\n",
      "Collecting catalogue<2.1.0,>=2.0.6 (from spacy)\n",
      "  Downloading catalogue-2.0.10-py3-none-any.whl.metadata (14 kB)\n",
      "Collecting weasel<0.4.0,>=0.1.0 (from spacy)\n",
      "  Downloading weasel-0.3.4-py3-none-any.whl.metadata (4.7 kB)\n",
      "Collecting typer<0.10.0,>=0.3.0 (from spacy)\n",
      "  Downloading typer-0.9.0-py3-none-any.whl (45 kB)\n",
      "\u001b[2K     \u001b[90m━━━━━━━━━━━━━━━━━━━━━━━━━━━━━━━━━━━━━━━━\u001b[0m \u001b[32m45.9/45.9 kB\u001b[0m \u001b[31m1.9 MB/s\u001b[0m eta \u001b[36m0:00:00\u001b[0m\n",
      "\u001b[?25hRequirement already satisfied: smart-open<7.0.0,>=5.2.1 in /Users/abhijeetkashyap/opt/anaconda3/lib/python3.9/site-packages (from spacy) (5.2.1)\n",
      "Requirement already satisfied: tqdm<5.0.0,>=4.38.0 in /Users/abhijeetkashyap/opt/anaconda3/lib/python3.9/site-packages (from spacy) (4.64.1)\n",
      "Requirement already satisfied: requests<3.0.0,>=2.13.0 in /Users/abhijeetkashyap/opt/anaconda3/lib/python3.9/site-packages (from spacy) (2.31.0)\n",
      "Requirement already satisfied: pydantic!=1.8,!=1.8.1,<3.0.0,>=1.7.4 in /Users/abhijeetkashyap/opt/anaconda3/lib/python3.9/site-packages (from spacy) (1.10.13)\n",
      "Requirement already satisfied: jinja2 in /Users/abhijeetkashyap/opt/anaconda3/lib/python3.9/site-packages (from spacy) (2.11.3)\n",
      "Requirement already satisfied: setuptools in /Users/abhijeetkashyap/opt/anaconda3/lib/python3.9/site-packages (from spacy) (69.0.3)\n",
      "Requirement already satisfied: packaging>=20.0 in /Users/abhijeetkashyap/opt/anaconda3/lib/python3.9/site-packages (from spacy) (23.2)\n",
      "Collecting langcodes<4.0.0,>=3.2.0 (from spacy)\n",
      "  Downloading langcodes-3.3.0-py3-none-any.whl (181 kB)\n",
      "\u001b[2K     \u001b[90m━━━━━━━━━━━━━━━━━━━━━━━━━━━━━━━━━━━━━━━\u001b[0m \u001b[32m181.6/181.6 kB\u001b[0m \u001b[31m2.5 MB/s\u001b[0m eta \u001b[36m0:00:00\u001b[0ma \u001b[36m0:00:01\u001b[0m\n",
      "\u001b[?25hRequirement already satisfied: numpy>=1.19.0 in /Users/abhijeetkashyap/opt/anaconda3/lib/python3.9/site-packages (from spacy) (1.24.4)\n",
      "Requirement already satisfied: typing-extensions>=4.2.0 in /Users/abhijeetkashyap/opt/anaconda3/lib/python3.9/site-packages (from pydantic!=1.8,!=1.8.1,<3.0.0,>=1.7.4->spacy) (4.8.0)\n",
      "Requirement already satisfied: charset-normalizer<4,>=2 in /Users/abhijeetkashyap/opt/anaconda3/lib/python3.9/site-packages (from requests<3.0.0,>=2.13.0->spacy) (2.0.4)\n",
      "Requirement already satisfied: idna<4,>=2.5 in /Users/abhijeetkashyap/opt/anaconda3/lib/python3.9/site-packages (from requests<3.0.0,>=2.13.0->spacy) (3.3)\n",
      "Requirement already satisfied: urllib3<3,>=1.21.1 in /Users/abhijeetkashyap/opt/anaconda3/lib/python3.9/site-packages (from requests<3.0.0,>=2.13.0->spacy) (1.26.11)\n",
      "Requirement already satisfied: certifi>=2017.4.17 in /Users/abhijeetkashyap/opt/anaconda3/lib/python3.9/site-packages (from requests<3.0.0,>=2.13.0->spacy) (2022.9.24)\n",
      "Collecting blis<0.8.0,>=0.7.8 (from thinc<8.3.0,>=8.1.8->spacy)\n",
      "  Downloading blis-0.7.11-cp39-cp39-macosx_10_9_x86_64.whl.metadata (7.4 kB)\n",
      "Collecting confection<1.0.0,>=0.0.1 (from thinc<8.3.0,>=8.1.8->spacy)\n",
      "  Downloading confection-0.1.4-py3-none-any.whl.metadata (19 kB)\n",
      "Requirement already satisfied: click<9.0.0,>=7.1.1 in /Users/abhijeetkashyap/opt/anaconda3/lib/python3.9/site-packages (from typer<0.10.0,>=0.3.0->spacy) (8.0.4)\n",
      "Collecting cloudpathlib<0.17.0,>=0.7.0 (from weasel<0.4.0,>=0.1.0->spacy)\n",
      "  Downloading cloudpathlib-0.16.0-py3-none-any.whl.metadata (14 kB)\n",
      "Requirement already satisfied: MarkupSafe>=0.23 in /Users/abhijeetkashyap/opt/anaconda3/lib/python3.9/site-packages (from jinja2->spacy) (2.0.1)\n",
      "Downloading spacy-3.7.2-cp39-cp39-macosx_10_9_x86_64.whl (6.9 MB)\n",
      "\u001b[2K   \u001b[90m━━━━━━━━━━━━━━━━━━━━━━━━━━━━━━━━━━━━━━━━\u001b[0m \u001b[32m6.9/6.9 MB\u001b[0m \u001b[31m6.8 MB/s\u001b[0m eta \u001b[36m0:00:00\u001b[0m00:01\u001b[0m00:01\u001b[0mm\n",
      "\u001b[?25hDownloading catalogue-2.0.10-py3-none-any.whl (17 kB)\n",
      "Downloading cymem-2.0.8-cp39-cp39-macosx_10_9_x86_64.whl (42 kB)\n",
      "\u001b[2K   \u001b[90m━━━━━━━━━━━━━━━━━━━━━━━━━━━━━━━━━━━━━━━━\u001b[0m \u001b[32m42.1/42.1 kB\u001b[0m \u001b[31m2.7 MB/s\u001b[0m eta \u001b[36m0:00:00\u001b[0m\n",
      "\u001b[?25hDownloading murmurhash-1.0.10-cp39-cp39-macosx_10_9_x86_64.whl (26 kB)\n",
      "Downloading preshed-3.0.9-cp39-cp39-macosx_10_9_x86_64.whl (133 kB)\n",
      "\u001b[2K   \u001b[90m━━━━━━━━━━━━━━━━━━━━━━━━━━━━━━━━━━━━━━━━\u001b[0m \u001b[32m133.5/133.5 kB\u001b[0m \u001b[31m7.0 MB/s\u001b[0m eta \u001b[36m0:00:00\u001b[0m\n",
      "\u001b[?25hDownloading spacy_loggers-1.0.5-py3-none-any.whl (22 kB)\n",
      "Downloading srsly-2.4.8-cp39-cp39-macosx_10_9_x86_64.whl (493 kB)\n",
      "\u001b[2K   \u001b[90m━━━━━━━━━━━━━━━━━━━━━━━━━━━━━━━━━━━━━━━━\u001b[0m \u001b[32m493.1/493.1 kB\u001b[0m \u001b[31m6.5 MB/s\u001b[0m eta \u001b[36m0:00:00\u001b[0m00:01\u001b[0m:00:01\u001b[0m\n",
      "\u001b[?25hDownloading thinc-8.2.2-cp39-cp39-macosx_10_9_x86_64.whl (878 kB)\n",
      "\u001b[2K   \u001b[90m━━━━━━━━━━━━━━━━━━━━━━━━━━━━━━━━━━━━━━━━\u001b[0m \u001b[32m878.1/878.1 kB\u001b[0m \u001b[31m6.3 MB/s\u001b[0m eta \u001b[36m0:00:00\u001b[0m00:01\u001b[0m00:01\u001b[0mm\n",
      "\u001b[?25hDownloading wasabi-1.1.2-py3-none-any.whl (27 kB)\n",
      "Downloading weasel-0.3.4-py3-none-any.whl (50 kB)\n",
      "\u001b[2K   \u001b[90m━━━━━━━━━━━━━━━━━━━━━━━━━━━━━━━━━━━━━━━━\u001b[0m \u001b[32m50.1/50.1 kB\u001b[0m \u001b[31m2.6 MB/s\u001b[0m eta \u001b[36m0:00:00\u001b[0m\n",
      "\u001b[?25hDownloading blis-0.7.11-cp39-cp39-macosx_10_9_x86_64.whl (6.1 MB)\n",
      "\u001b[2K   \u001b[90m━━━━━━━━━━━━━━━━━━━━━━━━━━━━━━━━━━━━━━━━\u001b[0m \u001b[32m6.1/6.1 MB\u001b[0m \u001b[31m4.8 MB/s\u001b[0m eta \u001b[36m0:00:00\u001b[0m00:01\u001b[0m00:01\u001b[0m\n",
      "\u001b[?25hDownloading cloudpathlib-0.16.0-py3-none-any.whl (45 kB)\n",
      "\u001b[2K   \u001b[90m━━━━━━━━━━━━━━━━━━━━━━━━━━━━━━━━━━━━━━━━\u001b[0m \u001b[32m45.0/45.0 kB\u001b[0m \u001b[31m3.8 MB/s\u001b[0m eta \u001b[36m0:00:00\u001b[0m\n",
      "\u001b[?25hDownloading confection-0.1.4-py3-none-any.whl (35 kB)\n",
      "Installing collected packages: cymem, wasabi, typer, spacy-loggers, spacy-legacy, murmurhash, langcodes, cloudpathlib, catalogue, blis, srsly, preshed, confection, weasel, thinc, spacy\n",
      "Successfully installed blis-0.7.11 catalogue-2.0.10 cloudpathlib-0.16.0 confection-0.1.4 cymem-2.0.8 langcodes-3.3.0 murmurhash-1.0.10 preshed-3.0.9 spacy-3.7.2 spacy-legacy-3.0.12 spacy-loggers-1.0.5 srsly-2.4.8 thinc-8.2.2 typer-0.9.0 wasabi-1.1.2 weasel-0.3.4\n",
      "Collecting en-core-web-sm==3.7.1\n",
      "  Downloading https://github.com/explosion/spacy-models/releases/download/en_core_web_sm-3.7.1/en_core_web_sm-3.7.1-py3-none-any.whl (12.8 MB)\n",
      "\u001b[2K     \u001b[90m━━━━━━━━━━━━━━━━━━━━━━━━━━━━━━━━━━━━━━━━\u001b[0m \u001b[32m12.8/12.8 MB\u001b[0m \u001b[31m5.0 MB/s\u001b[0m eta \u001b[36m0:00:00\u001b[0m00:01\u001b[0m00:01\u001b[0m\n",
      "\u001b[?25hRequirement already satisfied: spacy<3.8.0,>=3.7.2 in /Users/abhijeetkashyap/opt/anaconda3/lib/python3.9/site-packages (from en-core-web-sm==3.7.1) (3.7.2)\n",
      "Requirement already satisfied: spacy-legacy<3.1.0,>=3.0.11 in /Users/abhijeetkashyap/opt/anaconda3/lib/python3.9/site-packages (from spacy<3.8.0,>=3.7.2->en-core-web-sm==3.7.1) (3.0.12)\n",
      "Requirement already satisfied: spacy-loggers<2.0.0,>=1.0.0 in /Users/abhijeetkashyap/opt/anaconda3/lib/python3.9/site-packages (from spacy<3.8.0,>=3.7.2->en-core-web-sm==3.7.1) (1.0.5)\n",
      "Requirement already satisfied: murmurhash<1.1.0,>=0.28.0 in /Users/abhijeetkashyap/opt/anaconda3/lib/python3.9/site-packages (from spacy<3.8.0,>=3.7.2->en-core-web-sm==3.7.1) (1.0.10)\n",
      "Requirement already satisfied: cymem<2.1.0,>=2.0.2 in /Users/abhijeetkashyap/opt/anaconda3/lib/python3.9/site-packages (from spacy<3.8.0,>=3.7.2->en-core-web-sm==3.7.1) (2.0.8)\n",
      "Requirement already satisfied: preshed<3.1.0,>=3.0.2 in /Users/abhijeetkashyap/opt/anaconda3/lib/python3.9/site-packages (from spacy<3.8.0,>=3.7.2->en-core-web-sm==3.7.1) (3.0.9)\n",
      "Requirement already satisfied: thinc<8.3.0,>=8.1.8 in /Users/abhijeetkashyap/opt/anaconda3/lib/python3.9/site-packages (from spacy<3.8.0,>=3.7.2->en-core-web-sm==3.7.1) (8.2.2)\n",
      "Requirement already satisfied: wasabi<1.2.0,>=0.9.1 in /Users/abhijeetkashyap/opt/anaconda3/lib/python3.9/site-packages (from spacy<3.8.0,>=3.7.2->en-core-web-sm==3.7.1) (1.1.2)\n",
      "Requirement already satisfied: srsly<3.0.0,>=2.4.3 in /Users/abhijeetkashyap/opt/anaconda3/lib/python3.9/site-packages (from spacy<3.8.0,>=3.7.2->en-core-web-sm==3.7.1) (2.4.8)\n",
      "Requirement already satisfied: catalogue<2.1.0,>=2.0.6 in /Users/abhijeetkashyap/opt/anaconda3/lib/python3.9/site-packages (from spacy<3.8.0,>=3.7.2->en-core-web-sm==3.7.1) (2.0.10)\n",
      "Requirement already satisfied: weasel<0.4.0,>=0.1.0 in /Users/abhijeetkashyap/opt/anaconda3/lib/python3.9/site-packages (from spacy<3.8.0,>=3.7.2->en-core-web-sm==3.7.1) (0.3.4)\n",
      "Requirement already satisfied: typer<0.10.0,>=0.3.0 in /Users/abhijeetkashyap/opt/anaconda3/lib/python3.9/site-packages (from spacy<3.8.0,>=3.7.2->en-core-web-sm==3.7.1) (0.9.0)\n",
      "Requirement already satisfied: smart-open<7.0.0,>=5.2.1 in /Users/abhijeetkashyap/opt/anaconda3/lib/python3.9/site-packages (from spacy<3.8.0,>=3.7.2->en-core-web-sm==3.7.1) (5.2.1)\n",
      "Requirement already satisfied: tqdm<5.0.0,>=4.38.0 in /Users/abhijeetkashyap/opt/anaconda3/lib/python3.9/site-packages (from spacy<3.8.0,>=3.7.2->en-core-web-sm==3.7.1) (4.64.1)\n",
      "Requirement already satisfied: requests<3.0.0,>=2.13.0 in /Users/abhijeetkashyap/opt/anaconda3/lib/python3.9/site-packages (from spacy<3.8.0,>=3.7.2->en-core-web-sm==3.7.1) (2.31.0)\n",
      "Requirement already satisfied: pydantic!=1.8,!=1.8.1,<3.0.0,>=1.7.4 in /Users/abhijeetkashyap/opt/anaconda3/lib/python3.9/site-packages (from spacy<3.8.0,>=3.7.2->en-core-web-sm==3.7.1) (1.10.13)\n",
      "Requirement already satisfied: jinja2 in /Users/abhijeetkashyap/opt/anaconda3/lib/python3.9/site-packages (from spacy<3.8.0,>=3.7.2->en-core-web-sm==3.7.1) (2.11.3)\n",
      "Requirement already satisfied: setuptools in /Users/abhijeetkashyap/opt/anaconda3/lib/python3.9/site-packages (from spacy<3.8.0,>=3.7.2->en-core-web-sm==3.7.1) (69.0.3)\n",
      "Requirement already satisfied: packaging>=20.0 in /Users/abhijeetkashyap/opt/anaconda3/lib/python3.9/site-packages (from spacy<3.8.0,>=3.7.2->en-core-web-sm==3.7.1) (23.2)\n",
      "Requirement already satisfied: langcodes<4.0.0,>=3.2.0 in /Users/abhijeetkashyap/opt/anaconda3/lib/python3.9/site-packages (from spacy<3.8.0,>=3.7.2->en-core-web-sm==3.7.1) (3.3.0)\n",
      "Requirement already satisfied: numpy>=1.19.0 in /Users/abhijeetkashyap/opt/anaconda3/lib/python3.9/site-packages (from spacy<3.8.0,>=3.7.2->en-core-web-sm==3.7.1) (1.24.4)\n",
      "Requirement already satisfied: typing-extensions>=4.2.0 in /Users/abhijeetkashyap/opt/anaconda3/lib/python3.9/site-packages (from pydantic!=1.8,!=1.8.1,<3.0.0,>=1.7.4->spacy<3.8.0,>=3.7.2->en-core-web-sm==3.7.1) (4.8.0)\n",
      "Requirement already satisfied: charset-normalizer<4,>=2 in /Users/abhijeetkashyap/opt/anaconda3/lib/python3.9/site-packages (from requests<3.0.0,>=2.13.0->spacy<3.8.0,>=3.7.2->en-core-web-sm==3.7.1) (2.0.4)\n",
      "Requirement already satisfied: idna<4,>=2.5 in /Users/abhijeetkashyap/opt/anaconda3/lib/python3.9/site-packages (from requests<3.0.0,>=2.13.0->spacy<3.8.0,>=3.7.2->en-core-web-sm==3.7.1) (3.3)\n",
      "Requirement already satisfied: urllib3<3,>=1.21.1 in /Users/abhijeetkashyap/opt/anaconda3/lib/python3.9/site-packages (from requests<3.0.0,>=2.13.0->spacy<3.8.0,>=3.7.2->en-core-web-sm==3.7.1) (1.26.11)\n",
      "Requirement already satisfied: certifi>=2017.4.17 in /Users/abhijeetkashyap/opt/anaconda3/lib/python3.9/site-packages (from requests<3.0.0,>=2.13.0->spacy<3.8.0,>=3.7.2->en-core-web-sm==3.7.1) (2022.9.24)\n",
      "Requirement already satisfied: blis<0.8.0,>=0.7.8 in /Users/abhijeetkashyap/opt/anaconda3/lib/python3.9/site-packages (from thinc<8.3.0,>=8.1.8->spacy<3.8.0,>=3.7.2->en-core-web-sm==3.7.1) (0.7.11)\n",
      "Requirement already satisfied: confection<1.0.0,>=0.0.1 in /Users/abhijeetkashyap/opt/anaconda3/lib/python3.9/site-packages (from thinc<8.3.0,>=8.1.8->spacy<3.8.0,>=3.7.2->en-core-web-sm==3.7.1) (0.1.4)\n",
      "Requirement already satisfied: click<9.0.0,>=7.1.1 in /Users/abhijeetkashyap/opt/anaconda3/lib/python3.9/site-packages (from typer<0.10.0,>=0.3.0->spacy<3.8.0,>=3.7.2->en-core-web-sm==3.7.1) (8.0.4)\n",
      "Requirement already satisfied: cloudpathlib<0.17.0,>=0.7.0 in /Users/abhijeetkashyap/opt/anaconda3/lib/python3.9/site-packages (from weasel<0.4.0,>=0.1.0->spacy<3.8.0,>=3.7.2->en-core-web-sm==3.7.1) (0.16.0)\n",
      "Requirement already satisfied: MarkupSafe>=0.23 in /Users/abhijeetkashyap/opt/anaconda3/lib/python3.9/site-packages (from jinja2->spacy<3.8.0,>=3.7.2->en-core-web-sm==3.7.1) (2.0.1)\n",
      "Installing collected packages: en-core-web-sm\n",
      "Successfully installed en-core-web-sm-3.7.1\n",
      "\u001b[38;5;2m✔ Download and installation successful\u001b[0m\n",
      "You can now load the package via spacy.load('en_core_web_sm')\n"
     ]
    }
   ],
   "source": [
    "!pip install -U pip setuptools wheel\n",
    "!pip install -U spacy\n",
    "!python -m spacy download en_core_web_sm"
   ]
  },
  {
   "cell_type": "code",
   "execution_count": 3,
   "id": "6da37df5",
   "metadata": {},
   "outputs": [],
   "source": [
    "import spacy"
   ]
  },
  {
   "cell_type": "markdown",
   "id": "df1d84b9",
   "metadata": {},
   "source": [
    "### for efficency in working -->python -m spacy download en_core_web_sm(fast)\n",
    "### for accuracy in working --->python -m spacy download en_core_web_trf(slow)\n",
    "### we use the efficent version for working"
   ]
  },
  {
   "cell_type": "markdown",
   "id": "d9b6eae1",
   "metadata": {},
   "source": [
    "# Getting start"
   ]
  },
  {
   "cell_type": "markdown",
   "id": "6c3dc497",
   "metadata": {},
   "source": [
    "### 1.Tokenization"
   ]
  },
  {
   "cell_type": "markdown",
   "id": "1ae76ccc",
   "metadata": {},
   "source": [
    "#### here tolenizing is much better than nltk library"
   ]
  },
  {
   "cell_type": "code",
   "execution_count": 30,
   "id": "14477013",
   "metadata": {},
   "outputs": [],
   "source": [
    "# we create spacy object\n",
    "nlp=spacy.load('en_core_web_sm')"
   ]
  },
  {
   "cell_type": "code",
   "execution_count": 5,
   "id": "ad73eb34",
   "metadata": {},
   "outputs": [],
   "source": [
    "# we pass the text \n",
    "text=''' Sam Mankeshaw is one of the first cadet to be trained in Indian Military Academy.\n",
    "After graduating he is posted second lieutenant to the 12th Frontier Force Regiment, Ferozpur and soon he meets Sillo\n",
    "Bode with whom he married later.In 1942 during the second world war he is promoted as a major and sent to Burma where\n",
    "in the battle of Sitlang Bridge he gets wounded badly but survives the attack and is awarded gallantry.In 1947 post \n",
    "partition he is convinced by his colleague Major Yahya Khan to join the Pakistani army but he chooses to join Indian \n",
    "Army.Mankeshaw's achievements didn't stop here and he played major role during the 1962 Sino Indian War and 1971 \n",
    "Indoa-Pak War.due to his frequent achievements he was given the rank of First Field Marshall\n",
    "by Prime Minister Indira Gandhi'''\n",
    "s=nlp(text)"
   ]
  },
  {
   "cell_type": "code",
   "execution_count": 6,
   "id": "de5106fb",
   "metadata": {},
   "outputs": [
    {
     "data": {
      "text/plain": [
       " Sam Mankeshaw is one of the first cadet to be trained in Indian Military Academy.\n",
       "After graduating he is posted second lieutenant to the 12th Frontier Force Regiment, Ferozpur and soon he meets Sillo\n",
       "Bode with whom he married later.In 1942 during the second world war he is promoted as a major and sent to Burma where\n",
       "in the battle of Sitlang Bridge he gets wounded badly but survives the attack and is awarded gallantry.In 1947 post \n",
       "partition he is convinced by his colleague Major Yahya Khan to join the Pakistani army but he chooses to join Indian \n",
       "Army.Mankeshaw's achievements didn't stop here and he played major role during the 1962 Sino Indian War and 1971 \n",
       "Indoa-Pak War.due to his frequent achievements he was given the rank of First Field Marshall\n",
       "by Prime Minister Indira Gandhi"
      ]
     },
     "execution_count": 6,
     "metadata": {},
     "output_type": "execute_result"
    }
   ],
   "source": [
    "s"
   ]
  },
  {
   "cell_type": "code",
   "execution_count": 10,
   "id": "4a0a7403",
   "metadata": {},
   "outputs": [
    {
     "name": "stdout",
     "output_type": "stream",
     "text": [
      " \n",
      "Sam\n",
      "Mankeshaw\n",
      "is\n",
      "one\n",
      "of\n",
      "the\n",
      "first\n",
      "cadet\n",
      "to\n",
      "be\n",
      "trained\n",
      "in\n",
      "Indian\n",
      "Military\n",
      "Academy\n",
      ".\n",
      "\n",
      "\n",
      "After\n",
      "graduating\n",
      "he\n",
      "is\n",
      "posted\n",
      "second\n",
      "lieutenant\n",
      "to\n",
      "the\n",
      "12th\n",
      "Frontier\n",
      "Force\n",
      "Regiment\n",
      ",\n",
      "Ferozpur\n",
      "and\n",
      "soon\n",
      "he\n",
      "meets\n",
      "Sillo\n",
      "\n",
      "\n",
      "Bode\n",
      "with\n",
      "whom\n",
      "he\n",
      "married\n",
      "later\n",
      ".\n",
      "In\n",
      "1942\n",
      "during\n",
      "the\n",
      "second\n",
      "world\n",
      "war\n",
      "he\n",
      "is\n",
      "promoted\n",
      "as\n",
      "a\n",
      "major\n",
      "and\n",
      "sent\n",
      "to\n",
      "Burma\n",
      "where\n",
      "\n",
      "\n",
      "in\n",
      "the\n",
      "battle\n",
      "of\n",
      "Sitlang\n",
      "Bridge\n",
      "he\n",
      "gets\n",
      "wounded\n",
      "badly\n",
      "but\n",
      "survives\n",
      "the\n",
      "attack\n",
      "and\n",
      "is\n",
      "awarded\n",
      "gallantry\n",
      ".\n",
      "In\n",
      "1947\n",
      "post\n",
      "\n",
      "\n",
      "partition\n",
      "he\n",
      "is\n",
      "convinced\n",
      "by\n",
      "his\n",
      "colleague\n",
      "Major\n",
      "Yahya\n",
      "Khan\n",
      "to\n",
      "join\n",
      "the\n",
      "Pakistani\n",
      "army\n",
      "but\n",
      "he\n",
      "chooses\n",
      "to\n",
      "join\n",
      "Indian\n",
      "\n",
      "\n",
      "Army\n",
      ".\n",
      "Mankeshaw\n",
      "'s\n",
      "achievements\n",
      "did\n",
      "n't\n",
      "stop\n",
      "here\n",
      "and\n",
      "he\n",
      "played\n",
      "major\n",
      "role\n",
      "during\n",
      "the\n",
      "1962\n",
      "Sino\n",
      "Indian\n",
      "War\n",
      "and\n",
      "1971\n",
      "\n",
      "\n",
      "Indoa\n",
      "-\n",
      "Pak\n",
      "War.due\n",
      "to\n",
      "his\n",
      "frequent\n",
      "achievements\n",
      "he\n",
      "was\n",
      "given\n",
      "the\n",
      "rank\n",
      "of\n",
      "First\n",
      "Field\n",
      "Marshall\n",
      "\n",
      "\n",
      "by\n",
      "Prime\n",
      "Minister\n",
      "Indira\n",
      "Gandhi\n",
      "156\n"
     ]
    }
   ],
   "source": [
    "l=0\n",
    "for token in s:\n",
    "    print(token.text)\n",
    "    l+=1\n",
    "print(l) #156 word tokens"
   ]
  },
  {
   "cell_type": "markdown",
   "id": "6e04cb8a",
   "metadata": {},
   "source": [
    "#### achievements did n't stop\n",
    "#### here he tokenize did'nt into two tokens--> did,n't-->did,not in correct manner spacy tokenize"
   ]
  },
  {
   "cell_type": "code",
   "execution_count": 11,
   "id": "59b3b64f",
   "metadata": {},
   "outputs": [
    {
     "name": "stdout",
     "output_type": "stream",
     "text": [
      " Sam Mankeshaw is one of the first cadet to be trained in Indian Military Academy.\n",
      "\n",
      "After graduating he is posted second lieutenant to the 12th Frontier Force Regiment, Ferozpur and soon he meets Sillo\n",
      "Bode with whom he married later.\n",
      "In 1942 during the second world war he is promoted as a major and sent to Burma where\n",
      "in the battle of Sitlang Bridge he gets wounded badly but survives the attack and is awarded gallantry.\n",
      "In 1947 post \n",
      "partition he is convinced by his colleague Major Yahya Khan to join the Pakistani army but he chooses to join Indian \n",
      "Army.\n",
      "Mankeshaw's achievements didn't stop here and he played major role during the 1962 Sino Indian War and 1971 \n",
      "Indoa-Pak War.due to his frequent achievements he was given the rank of First Field Marshall\n",
      "by Prime Minister Indira Gandhi\n",
      "5\n"
     ]
    }
   ],
   "source": [
    "# sentence tokenization\n",
    "l=0\n",
    "for token in s.sents:\n",
    "    print(token.text)\n",
    "    l+=1\n",
    "print(l)"
   ]
  },
  {
   "cell_type": "markdown",
   "id": "509193dc",
   "metadata": {},
   "source": [
    "### 2.stop words"
   ]
  },
  {
   "cell_type": "code",
   "execution_count": 31,
   "id": "8f4d086d",
   "metadata": {},
   "outputs": [
    {
     "name": "stdout",
     "output_type": "stream",
     "text": [
      "{'nowhere', 'whom', 're', 'moreover', 'whereas', 'thru', 'themselves', 'after', 'should', 'no', 'n‘t', '‘m', 'if', 'less', 'hereby', 'front', 'almost', 'noone', 'anything', 'hereafter', 'nevertheless', 'much', 'doing', '‘ll', 'amount', 'before', '’m', 'side', 'become', \"'re\", 'see', 'and', 'this', 'when', 'could', 'who', 'make', 'anyway', 'around', 'now', 'last', 'perhaps', 'beforehand', 'others', 'most', 'becomes', 'beyond', 'since', 'your', 'two', 'until', 'rather', 'each', 'few', '‘d', 'either', 'became', 'without', 'as', 'several', 'one', 'because', 'an', 'together', 'hundred', 'so', 'only', 'being', 'serious', 'been', 'both', 'a', 'besides', 'by', 'such', 'throughout', \"n't\", 'you', 'eight', 'while', 'former', 'whether', 'anywhere', 'further', 'whatever', 'bottom', 'name', 'elsewhere', 'thus', 'where', 'part', 'between', 'under', 'thereupon', 'neither', 'more', 'behind', 'out', 'herein', 'her', 'seeming', 'some', 'take', 'although', 'through', 'mine', 'again', 'using', 'wherein', 'amongst', 'herself', 'also', 'were', 'it', 'own', 'itself', 'forty', 'put', 'whole', 'their', 'did', 'nor', 'formerly', 'keep', \"'ll\", 'therefore', 'not', 'whence', 'they', 'three', 'yourselves', 'whereupon', 'get', 'four', 'move', 'below', 'we', 'anyhow', 'might', 'how', 'however', 'above', 'seemed', 'is', 'our', 'whither', 'wherever', 'its', 'within', 'what', 'thereafter', 'there', 'made', 'regarding', 'for', 'thereby', 'his', 'per', 'seem', 'none', 'unless', 'due', 'many', 'ever', 'same', 'have', 'off', 'myself', 'here', 'than', 'hence', 'everyone', 'already', 'fifteen', \"'ve\", 'among', 'down', 'ourselves', 'really', 'afterwards', 'which', 'any', 'via', 'at', 'back', 'can', 'must', 'seems', 'or', 'well', 'n’t', 'call', 'sometime', 'always', 'somewhere', 'had', 'am', 'never', '‘ve', 'empty', 'all', '’ll', 'namely', 'though', 'eleven', 'along', '’re', 'everywhere', 'else', 'him', 'them', 'someone', \"'d\", 'to', 'does', 'often', 'on', 'sixty', '’s', 'ca', 'would', '’d', 'once', 'about', 'least', \"'s\", 'towards', 'hereupon', 'i', 'everything', 'third', 'other', 'upon', 'five', 'may', 'against', 'first', 'indeed', 'with', 'latterly', 'my', 'has', 'ten', 'during', 'onto', 'top', \"'m\", 'from', 'done', 'ours', 'otherwise', 'even', 'except', 'show', 'himself', 'toward', '’ve', 'whenever', 'that', 'yet', 'whoever', 'but', 'yours', 'something', 'latter', 'somehow', 'very', 'he', 'whereafter', 'twelve', 'in', 'nine', 'whose', 'beside', 'over', 'every', 'full', 'across', 'hers', 'anyone', 'too', 'twenty', 'various', 'was', 'another', 'six', 'the', 'becoming', 'quite', 'meanwhile', 'then', 'whereby', 'thence', 'fifty', 'sometimes', 'why', 'give', 'used', 'next', 'yourself', 'these', 'go', 'into', 'say', 'still', 'enough', 'cannot', 'me', 'nothing', 'she', 'those', '‘re', 'alone', 'please', 'will', 'are', 'be', '‘s', 'up', 'just', 'mostly', 'nobody', 'us', 'do', 'therein', 'of'}\n"
     ]
    }
   ],
   "source": [
    "print(nlp.Defaults.stop_words) # default stopwords in spacy"
   ]
  },
  {
   "cell_type": "code",
   "execution_count": 32,
   "id": "225259db",
   "metadata": {},
   "outputs": [
    {
     "data": {
      "text/plain": [
       "326"
      ]
     },
     "execution_count": 32,
     "metadata": {},
     "output_type": "execute_result"
    }
   ],
   "source": [
    "len(nlp.Defaults.stop_words) # there are 326 stopwords in spacy"
   ]
  },
  {
   "cell_type": "markdown",
   "id": "888fcf76",
   "metadata": {},
   "source": [
    "### 2.a How to check particular stopwords in corpus?"
   ]
  },
  {
   "cell_type": "code",
   "execution_count": 33,
   "id": "962b5a4a",
   "metadata": {},
   "outputs": [
    {
     "name": "stdout",
     "output_type": "stream",
     "text": [
      "True\n",
      "False\n"
     ]
    }
   ],
   "source": [
    "print(nlp.vocab['will'].is_stop) # will in stopwords\n",
    "print(nlp.vocab['Data Science'].is_stop) #data science not in stop words"
   ]
  },
  {
   "cell_type": "markdown",
   "id": "4f95d347",
   "metadata": {},
   "source": [
    "### 2.b How to add a custom stopword based on corpus?"
   ]
  },
  {
   "cell_type": "code",
   "execution_count": 38,
   "id": "a220d851",
   "metadata": {},
   "outputs": [
    {
     "name": "stdout",
     "output_type": "stream",
     "text": [
      "False\n",
      "True\n"
     ]
    }
   ],
   "source": [
    "print(nlp.vocab['chooses'].is_stop)\n",
    "nlp.Defaults.stop_words.add('chooses')# adding chooses as stopword\n",
    "nlp.vocab['chooses'].is_stop = True\n",
    "print(nlp.vocab['chooses'].is_stop)"
   ]
  },
  {
   "cell_type": "code",
   "execution_count": 39,
   "id": "84cbbe18",
   "metadata": {},
   "outputs": [
    {
     "data": {
      "text/plain": [
       "327"
      ]
     },
     "execution_count": 39,
     "metadata": {},
     "output_type": "execute_result"
    }
   ],
   "source": [
    "len(nlp.Defaults.stop_words)"
   ]
  },
  {
   "cell_type": "markdown",
   "id": "4f0c01aa",
   "metadata": {},
   "source": [
    "### 2.c How to remove stopwords based on corpus?"
   ]
  },
  {
   "cell_type": "code",
   "execution_count": 40,
   "id": "a320db39",
   "metadata": {},
   "outputs": [
    {
     "name": "stdout",
     "output_type": "stream",
     "text": [
      "True\n",
      "False\n"
     ]
    }
   ],
   "source": [
    "print(nlp.vocab['chooses'].is_stop)\n",
    "\n",
    "nlp.Defaults.stop_words.remove('chooses')\n",
    "\n",
    "nlp.vocab['chooses'].is_stop = False\n",
    "\n",
    "print(nlp.vocab['chooses'].is_stop)"
   ]
  },
  {
   "cell_type": "code",
   "execution_count": null,
   "id": "577fa1c0",
   "metadata": {},
   "outputs": [],
   "source": []
  },
  {
   "cell_type": "code",
   "execution_count": null,
   "id": "8c00e095",
   "metadata": {},
   "outputs": [],
   "source": []
  },
  {
   "cell_type": "code",
   "execution_count": null,
   "id": "050a5d02",
   "metadata": {},
   "outputs": [],
   "source": []
  },
  {
   "cell_type": "code",
   "execution_count": null,
   "id": "5de2be6e",
   "metadata": {},
   "outputs": [],
   "source": []
  },
  {
   "cell_type": "code",
   "execution_count": null,
   "id": "3b72e782",
   "metadata": {},
   "outputs": [],
   "source": []
  },
  {
   "cell_type": "code",
   "execution_count": null,
   "id": "e7aa0694",
   "metadata": {},
   "outputs": [],
   "source": []
  }
 ],
 "metadata": {
  "kernelspec": {
   "display_name": "Python 3 (ipykernel)",
   "language": "python",
   "name": "python3"
  },
  "language_info": {
   "codemirror_mode": {
    "name": "ipython",
    "version": 3
   },
   "file_extension": ".py",
   "mimetype": "text/x-python",
   "name": "python",
   "nbconvert_exporter": "python",
   "pygments_lexer": "ipython3",
   "version": "3.9.13"
  }
 },
 "nbformat": 4,
 "nbformat_minor": 5
}
