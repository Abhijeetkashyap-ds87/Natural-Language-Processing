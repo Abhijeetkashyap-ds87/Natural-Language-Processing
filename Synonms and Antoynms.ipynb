{
 "cells": [
  {
   "cell_type": "markdown",
   "id": "29d60812",
   "metadata": {},
   "source": [
    "### WordNet is the lexical database i.e. dictionary for the English language, specifically designed for natural language processing."
   ]
  },
  {
   "cell_type": "code",
   "execution_count": 2,
   "id": "f96ac260",
   "metadata": {},
   "outputs": [],
   "source": [
    "import nltk\n",
    "from nltk.corpus import wordnet"
   ]
  },
  {
   "cell_type": "markdown",
   "id": "44584314",
   "metadata": {},
   "source": [
    "### synsets()--> method used for getting synonms,antonyms and defenition of that word"
   ]
  },
  {
   "cell_type": "code",
   "execution_count": 3,
   "id": "6abdb55b",
   "metadata": {},
   "outputs": [],
   "source": [
    "word=wordnet.synsets('beautiful')"
   ]
  },
  {
   "cell_type": "code",
   "execution_count": 7,
   "id": "3dff629d",
   "metadata": {},
   "outputs": [
    {
     "data": {
      "text/plain": [
       "[Synset('beautiful.a.01'), Synset('beautiful.s.02')]"
      ]
     },
     "execution_count": 7,
     "metadata": {},
     "output_type": "execute_result"
    }
   ],
   "source": [
    "word"
   ]
  },
  {
   "cell_type": "code",
   "execution_count": 6,
   "id": "253ff769",
   "metadata": {},
   "outputs": [
    {
     "data": {
      "text/plain": [
       "list"
      ]
     },
     "execution_count": 6,
     "metadata": {},
     "output_type": "execute_result"
    }
   ],
   "source": [
    "type(word) # retuen type is list"
   ]
  },
  {
   "cell_type": "markdown",
   "id": "5a3e2337",
   "metadata": {},
   "source": [
    "### synsets-->lemmas-->lemma.name()"
   ]
  },
  {
   "cell_type": "code",
   "execution_count": 8,
   "id": "3fc2f770",
   "metadata": {},
   "outputs": [
    {
     "data": {
      "text/plain": [
       "[Synset('book.n.01'),\n",
       " Synset('book.n.02'),\n",
       " Synset('record.n.05'),\n",
       " Synset('script.n.01'),\n",
       " Synset('ledger.n.01'),\n",
       " Synset('book.n.06'),\n",
       " Synset('book.n.07'),\n",
       " Synset('koran.n.01'),\n",
       " Synset('bible.n.01'),\n",
       " Synset('book.n.10'),\n",
       " Synset('book.n.11'),\n",
       " Synset('book.v.01'),\n",
       " Synset('reserve.v.04'),\n",
       " Synset('book.v.03'),\n",
       " Synset('book.v.04')]"
      ]
     },
     "execution_count": 8,
     "metadata": {},
     "output_type": "execute_result"
    }
   ],
   "source": [
    "wordnet.synsets('Book')"
   ]
  },
  {
   "cell_type": "code",
   "execution_count": 10,
   "id": "b5422166",
   "metadata": {},
   "outputs": [
    {
     "name": "stdout",
     "output_type": "stream",
     "text": [
      "[Lemma('book.n.01.book')]\n",
      "[Lemma('book.n.02.book'), Lemma('book.n.02.volume')]\n",
      "[Lemma('record.n.05.record'), Lemma('record.n.05.record_book'), Lemma('record.n.05.book')]\n",
      "[Lemma('script.n.01.script'), Lemma('script.n.01.book'), Lemma('script.n.01.playscript')]\n",
      "[Lemma('ledger.n.01.ledger'), Lemma('ledger.n.01.leger'), Lemma('ledger.n.01.account_book'), Lemma('ledger.n.01.book_of_account'), Lemma('ledger.n.01.book')]\n",
      "[Lemma('book.n.06.book')]\n",
      "[Lemma('book.n.07.book'), Lemma('book.n.07.rule_book')]\n",
      "[Lemma('koran.n.01.Koran'), Lemma('koran.n.01.Quran'), Lemma('koran.n.01.al-Qur'an'), Lemma('koran.n.01.Book')]\n",
      "[Lemma('bible.n.01.Bible'), Lemma('bible.n.01.Christian_Bible'), Lemma('bible.n.01.Book'), Lemma('bible.n.01.Good_Book'), Lemma('bible.n.01.Holy_Scripture'), Lemma('bible.n.01.Holy_Writ'), Lemma('bible.n.01.Scripture'), Lemma('bible.n.01.Word_of_God'), Lemma('bible.n.01.Word')]\n",
      "[Lemma('book.n.10.book')]\n",
      "[Lemma('book.n.11.book')]\n",
      "[Lemma('book.v.01.book')]\n",
      "[Lemma('reserve.v.04.reserve'), Lemma('reserve.v.04.hold'), Lemma('reserve.v.04.book')]\n",
      "[Lemma('book.v.03.book')]\n",
      "[Lemma('book.v.04.book')]\n"
     ]
    }
   ],
   "source": [
    " for ele in wordnet.synsets('Book'):\n",
    "        print(ele.lemmas())"
   ]
  },
  {
   "cell_type": "code",
   "execution_count": 11,
   "id": "14039d00",
   "metadata": {},
   "outputs": [
    {
     "name": "stdout",
     "output_type": "stream",
     "text": [
      "<bound method Lemma.name of Lemma('book.n.01.book')>\n",
      "<bound method Lemma.name of Lemma('book.n.02.book')>\n",
      "<bound method Lemma.name of Lemma('book.n.02.volume')>\n",
      "<bound method Lemma.name of Lemma('record.n.05.record')>\n",
      "<bound method Lemma.name of Lemma('record.n.05.record_book')>\n",
      "<bound method Lemma.name of Lemma('record.n.05.book')>\n",
      "<bound method Lemma.name of Lemma('script.n.01.script')>\n",
      "<bound method Lemma.name of Lemma('script.n.01.book')>\n",
      "<bound method Lemma.name of Lemma('script.n.01.playscript')>\n",
      "<bound method Lemma.name of Lemma('ledger.n.01.ledger')>\n",
      "<bound method Lemma.name of Lemma('ledger.n.01.leger')>\n",
      "<bound method Lemma.name of Lemma('ledger.n.01.account_book')>\n",
      "<bound method Lemma.name of Lemma('ledger.n.01.book_of_account')>\n",
      "<bound method Lemma.name of Lemma('ledger.n.01.book')>\n",
      "<bound method Lemma.name of Lemma('book.n.06.book')>\n",
      "<bound method Lemma.name of Lemma('book.n.07.book')>\n",
      "<bound method Lemma.name of Lemma('book.n.07.rule_book')>\n",
      "<bound method Lemma.name of Lemma('koran.n.01.Koran')>\n",
      "<bound method Lemma.name of Lemma('koran.n.01.Quran')>\n",
      "<bound method Lemma.name of Lemma('koran.n.01.al-Qur'an')>\n",
      "<bound method Lemma.name of Lemma('koran.n.01.Book')>\n",
      "<bound method Lemma.name of Lemma('bible.n.01.Bible')>\n",
      "<bound method Lemma.name of Lemma('bible.n.01.Christian_Bible')>\n",
      "<bound method Lemma.name of Lemma('bible.n.01.Book')>\n",
      "<bound method Lemma.name of Lemma('bible.n.01.Good_Book')>\n",
      "<bound method Lemma.name of Lemma('bible.n.01.Holy_Scripture')>\n",
      "<bound method Lemma.name of Lemma('bible.n.01.Holy_Writ')>\n",
      "<bound method Lemma.name of Lemma('bible.n.01.Scripture')>\n",
      "<bound method Lemma.name of Lemma('bible.n.01.Word_of_God')>\n",
      "<bound method Lemma.name of Lemma('bible.n.01.Word')>\n",
      "<bound method Lemma.name of Lemma('book.n.10.book')>\n",
      "<bound method Lemma.name of Lemma('book.n.11.book')>\n",
      "<bound method Lemma.name of Lemma('book.v.01.book')>\n",
      "<bound method Lemma.name of Lemma('reserve.v.04.reserve')>\n",
      "<bound method Lemma.name of Lemma('reserve.v.04.hold')>\n",
      "<bound method Lemma.name of Lemma('reserve.v.04.book')>\n",
      "<bound method Lemma.name of Lemma('book.v.03.book')>\n",
      "<bound method Lemma.name of Lemma('book.v.04.book')>\n"
     ]
    }
   ],
   "source": [
    "for ele in wordnet.synsets('Book'):\n",
    "    for lemma in ele.lemmas():\n",
    "        print(lemma.name)       "
   ]
  },
  {
   "cell_type": "code",
   "execution_count": 18,
   "id": "7af538b7",
   "metadata": {},
   "outputs": [],
   "source": [
    "synonyms=set()\n",
    "for ele in wordnet.synsets('Book'):\n",
    "    for lemma in ele.lemmas():\n",
    "        synonyms.add(lemma.name())       "
   ]
  },
  {
   "cell_type": "code",
   "execution_count": 19,
   "id": "7cebca74",
   "metadata": {},
   "outputs": [
    {
     "data": {
      "text/plain": [
       "{'Bible',\n",
       " 'Book',\n",
       " 'Christian_Bible',\n",
       " 'Good_Book',\n",
       " 'Holy_Scripture',\n",
       " 'Holy_Writ',\n",
       " 'Koran',\n",
       " 'Quran',\n",
       " 'Scripture',\n",
       " 'Word',\n",
       " 'Word_of_God',\n",
       " 'account_book',\n",
       " \"al-Qur'an\",\n",
       " 'book',\n",
       " 'book_of_account',\n",
       " 'hold',\n",
       " 'ledger',\n",
       " 'leger',\n",
       " 'playscript',\n",
       " 'record',\n",
       " 'record_book',\n",
       " 'reserve',\n",
       " 'rule_book',\n",
       " 'script',\n",
       " 'volume'}"
      ]
     },
     "execution_count": 19,
     "metadata": {},
     "output_type": "execute_result"
    }
   ],
   "source": [
    "synonyms"
   ]
  },
  {
   "cell_type": "markdown",
   "id": "167f08c8",
   "metadata": {},
   "source": [
    "## 2.Antonyms"
   ]
  },
  {
   "cell_type": "code",
   "execution_count": 38,
   "id": "5ca47dc3",
   "metadata": {},
   "outputs": [
    {
     "name": "stdout",
     "output_type": "stream",
     "text": [
      "happy [Lemma('unhappy.a.01.unhappy')]\n"
     ]
    }
   ],
   "source": [
    "for ele in wordnet.synsets('happy'):\n",
    "    for lemma in ele.lemmas():\n",
    "        if lemma.antonyms():\n",
    "            print(lemma.name(),lemma.antonyms())"
   ]
  },
  {
   "cell_type": "code",
   "execution_count": 36,
   "id": "9900c554",
   "metadata": {},
   "outputs": [],
   "source": [
    "antonyms=set()\n",
    "for ele in wordnet.synsets('happy'):\n",
    "    for lemma in ele.lemmas():\n",
    "        if lemma.antonyms():\n",
    "            antonyms.add(lemma.antonyms()[0].name())\n",
    "       "
   ]
  },
  {
   "cell_type": "code",
   "execution_count": 37,
   "id": "a4cfbc8b",
   "metadata": {},
   "outputs": [
    {
     "data": {
      "text/plain": [
       "{'unhappy'}"
      ]
     },
     "execution_count": 37,
     "metadata": {},
     "output_type": "execute_result"
    }
   ],
   "source": [
    "antonyms"
   ]
  },
  {
   "cell_type": "markdown",
   "id": "0e80e776",
   "metadata": {},
   "source": [
    "### 3. Defentions"
   ]
  },
  {
   "cell_type": "code",
   "execution_count": 41,
   "id": "dfb6267f",
   "metadata": {},
   "outputs": [
    {
     "name": "stdout",
     "output_type": "stream",
     "text": [
      "enjoying or showing or marked by joy or pleasure\n"
     ]
    }
   ],
   "source": [
    "d=wordnet.synsets('happy')\n",
    "print(d[0].definition())"
   ]
  },
  {
   "cell_type": "code",
   "execution_count": null,
   "id": "b0ae577f",
   "metadata": {},
   "outputs": [],
   "source": []
  }
 ],
 "metadata": {
  "kernelspec": {
   "display_name": "Python 3 (ipykernel)",
   "language": "python",
   "name": "python3"
  },
  "language_info": {
   "codemirror_mode": {
    "name": "ipython",
    "version": 3
   },
   "file_extension": ".py",
   "mimetype": "text/x-python",
   "name": "python",
   "nbconvert_exporter": "python",
   "pygments_lexer": "ipython3",
   "version": "3.9.13"
  }
 },
 "nbformat": 4,
 "nbformat_minor": 5
}
